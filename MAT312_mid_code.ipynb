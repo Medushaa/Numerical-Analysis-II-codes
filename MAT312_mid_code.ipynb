{
  "nbformat": 4,
  "nbformat_minor": 0,
  "metadata": {
    "colab": {
      "provenance": [],
      "collapsed_sections": [
        "rFt9VetVhoQq",
        "NLebJYeiiL7u",
        "LLj-XzZY7dnb",
        "PzfmI-5b8EnX",
        "nHE442cUL0LU",
        "AhietVrWS5kt"
      ]
    },
    "kernelspec": {
      "name": "python3",
      "display_name": "Python 3"
    },
    "language_info": {
      "name": "python"
    }
  },
  "cells": [
    {
      "cell_type": "markdown",
      "source": [
        "# Functional iteration"
      ],
      "metadata": {
        "id": "rFt9VetVhoQq"
      }
    },
    {
      "cell_type": "code",
      "execution_count": null,
      "metadata": {
        "colab": {
          "base_uri": "https://localhost:8080/"
        },
        "id": "WR144dfmKy7h",
        "outputId": "561e1bae-3f6a-40cc-9c95-f8a310185a2c"
      },
      "outputs": [
        {
          "output_type": "stream",
          "name": "stdout",
          "text": [
            "0th iteration: x = 0.1414213562373095, y = 0.12247448713915891, z = 0.02332847374079217 and norm = 0.3775255128608411\n",
            "1th iteration: x = 0.37300326355240276, y = 0.215759174784256, z = 0.09212085303630432 and norm = 0.23158190731509326\n",
            "2th iteration: x = 0.5539827053705724, y = 0.3918075688735386, z = 0.11189780108931617 and norm = 0.1809794418181696\n",
            "3th iteration: x = 0.5554969207826318, y = 0.42242674511271, z = 0.10435514477415568 and norm = 0.030619176239171375\n",
            "4th iteration: x = 0.5236872393786051, y = 0.40586324242741256, z = 0.09653087050693045 and norm = 0.031809681404026735\n",
            "5th iteration: x = 0.5191098538208345, y = 0.3928714397552959, z = 0.0979873577916239 and norm = 0.012991802672116637\n",
            "6th iteration: x = 0.5292921867813141, y = 0.3968664443021079, z = 0.10084364760485152 and norm = 0.010182332960479545\n",
            "7th iteration: x = 0.5324920565471515, y = 0.4018681789987747, z = 0.10079630411297465 and norm = 0.005001734696666815\n",
            "8th iteration: x = 0.5295891998909548, y = 0.40131467730617704, z = 0.09983783531657921 and norm = 0.0029028566561967173\n",
            "9th iteration: x = 0.5280941274968066, y = 0.39957192103900485, z = 0.0997079241244817 and norm = 0.0017427562671721852\n",
            "10th iteration: x = 0.5288405517000061, y = 0.39949211043010346, z = 0.100009959725135 and norm = 0.0007464242031994806\n",
            "11th iteration: x = 0.5294564545725904, y = 0.40006620304331, z = 0.10009919613880593 and norm = 0.0006159028725842841\n",
            "12th iteration: x = 0.5293001621820458, y = 0.40017974447021915, z = 0.10001172350219417 and norm = 0.00015629239054459898\n",
            "13th iteration: x = 0.5290704449372576, y = 0.4000051203934848, z = 0.0999685544849151 and norm = 0.00022971724478815236\n",
            "14th iteration: x = 0.5290879290640663, y = 0.3999405551970276, z = 0.09999130157994716 and norm = 6.456519645720027e-05\n",
            "15th iteration: x = 0.5291675188201829, y = 0.39998926216427677, z = 0.10000920719691872 and norm = 7.958975611654928e-05\n",
            "16th iteration: x = 0.5291737492210561, y = 0.4000182697130621, z = 0.10000430982655378 and norm = 2.9007548785320303e-05\n",
            "17th iteration: x = 0.5291480484304043, y = 0.4000063679841927, z = 0.09999757131322552 and norm = 2.5700790651783656e-05\n",
            "18th iteration: x = 0.5291420619784757, y = 0.39999484916794376, z = 0.09999818831141087 and norm = 1.1518816248945463e-05\n",
            "19th iteration: x = 0.5291497586402109, y = 0.39999708595549516, z = 0.10000053818254456 and norm = 7.696661735168142e-06\n"
          ]
        }
      ],
      "source": [
        "from sympy import *\n",
        "\n",
        "x, y, z = symbols('x y z')\n",
        "\n",
        "p1 = lambdify([x, y, z], sqrt(y - 2*y*y + 2*z) )\n",
        "p2 = lambdify([x, y, z], (1/sqrt(8)) * sqrt(x*x+10*z))\n",
        "p3 = lambdify([x, y, z], (x*x)/(7*y))\n",
        "\n",
        "x_k, y_k, z_k = (0.5,0.5,0.01)\n",
        "norm_k = 0\n",
        "for k in range(20):\n",
        "  x_prev, y_prev, z_prev = (x_k, y_k, z_k)\n",
        "  x_k = p1(x_k, y_k, z_k)\n",
        "  y_k = p2(x_k, y_k, z_k)\n",
        "  z_k = p3(x_k, y_k, z_k)\n",
        "  norm_k = max(abs(x_prev - x_k), abs(y_prev - y_k), abs(z_prev - z_k))\n",
        "  print(f\"{k}th iteration: x = {x_k}, y = {y_k}, z = {z_k} and norm = {norm_k}\")\n",
        "\n"
      ]
    },
    {
      "cell_type": "markdown",
      "source": [
        "# Newton's method\n",
        "\n",
        "\n"
      ],
      "metadata": {
        "id": "NLebJYeiiL7u"
      }
    },
    {
      "cell_type": "code",
      "source": [
        "from sympy import symbols, exp, sin, cos, pi, init_printing\n",
        "from sympy import Matrix as M\n",
        "from sympy import Rational as R\n",
        "\n",
        "from pprint import pp\n",
        "\n",
        "init_printing()\n",
        "\n",
        "x1, x2, x3 = symbols(\"x1 x2 x3\")\n",
        "\n",
        "F = M([\n",
        "        [10*x1 - 2*(x2**2) + x2 - 2*x3 -5],\n",
        "        [8*(x2**2) + 4*(x3**2) - 9],\n",
        "        [8*x2*x3 + 4],\n",
        "    ],)\n",
        "\n",
        "J = M([\n",
        "        [10, -4*x2 + 1, -2],\n",
        "        [0, 16*x2, 8*x3],\n",
        "        [0, 8*x3, 8*x2],\n",
        "    ])\n",
        "\n",
        "x = M([[0.1, 0.5, -0.1]]).T\n",
        "y = None\n",
        "\n",
        "for i in range(1, 4):\n",
        "    F_ = F.copy()\n",
        "    J_ = J.copy()\n",
        "    for a, b in zip([x1, x2, x3], x):\n",
        "        F_ = F_.subs(a, b)\n",
        "        J_ = J_.subs(a, b)\n",
        "\n",
        "    F_ = F_.evalf()\n",
        "    J_ = J_.evalf()\n",
        "\n",
        "    y = J_.inv() * (-F_)\n",
        "    x = x + y\n",
        "\n",
        "    print(f\"\\nIter: {i}\")\n",
        "    print(\"J =\", str(J_))\n",
        "    #print(\"Jinv =\", str(J_.inv()))\n",
        "    print(\"F =\", str(F_))\n",
        "    print(\"y =\", str(y))\n",
        "    print(\"x =\", x)"
      ],
      "metadata": {
        "colab": {
          "base_uri": "https://localhost:8080/"
        },
        "outputId": "68f0758b-87bc-442b-b128-280e1be82136",
        "id": "N5PFe5hUeLhM"
      },
      "execution_count": null,
      "outputs": [
        {
          "output_type": "stream",
          "name": "stdout",
          "text": [
            "\n",
            "Iter: 1\n",
            "J = Matrix([[10.0000000000000, -1.00000000000000, -2.00000000000000], [0, 8.00000000000000, -0.800000000000000], [0, -0.800000000000000, 4.00000000000000]])\n",
            "F = Matrix([[-3.80000000000000], [-6.96000000000000], [3.60000000000000]])\n",
            "y = Matrix([[0.311428571428571], [0.795918367346939], [-0.740816326530612]])\n",
            "x = Matrix([[0.411428571428571], [1.29591836734694], [-0.840816326530612]])\n",
            "\n",
            "Iter: 2\n",
            "J = Matrix([[10.0000000000000, -4.18367346938776, -2.00000000000000], [0, 20.7346938775510, -6.72653061224490], [0, -6.72653061224490, 10.3673469387755]])\n",
            "F = Matrix([[-1.26697209496043], [7.26312369845898], [-4.71703456892961]])\n",
            "y = Matrix([[0.0769783934814499], [-0.256720919859401], [0.288424170653331]])\n",
            "x = Matrix([[0.488406964910021], [1.03919744748754], [-0.552392155877281]])\n",
            "\n",
            "Iter: 3\n",
            "J = Matrix([[10.0000000000000, -3.15678978995015, -2.00000000000000], [0, 16.6271591598006, -4.41913724701825], [0, -4.41913724701825, 8.31357957990030]])\n",
            "F = Matrix([[-0.131811261386915], [0.859999054415906], [-0.592356147198466]])\n",
            "y = Matrix([[0.0113201900811717], [-0.0381792285316656], [0.0509572191208689]])\n",
            "x = Matrix([[0.499727154991193], [1.00101821895587], [-0.501434936756412]])\n"
          ]
        }
      ]
    },
    {
      "cell_type": "markdown",
      "source": [
        "# Quazi-Newton method"
      ],
      "metadata": {
        "id": "LLj-XzZY7dnb"
      }
    },
    {
      "cell_type": "code",
      "source": [
        "from sympy import symbols, exp, sin, cos, pi, init_printing, sqrt\n",
        "from sympy import Matrix as M\n",
        "from sympy import Rational as R\n",
        "from pprint import pp\n",
        "\n",
        "init_printing()\n",
        "x1, x2, x3 = symbols(\"x1 x2 x3\")\n",
        "\n",
        "F = M([\n",
        "        [6*x1 - 2*cos(x1*x2) - 1],\n",
        "        [9*x2 + sqrt(x1**2 + sin(x3) + 1.06) + 0.9],\n",
        "        [60*x3 + 3*exp(-x1*x2) + 10*pi - 3],\n",
        "    ],)\n",
        "\n",
        "J = M([\n",
        "        [6, 2*x3*sin(x2*x3), 2*x2*sin(x2*x3)],\n",
        "        [x1 * (1/sqrt(x1**2 + sin(x3) +1.06)), 9, (cos(x3)/2) * (1/sqrt(x1**2 + sin(x3) +1.06))],\n",
        "        [-3*x2*exp(-x1*x2), -3*x1*exp(-x1*x2), 60],\n",
        "    ])\n",
        "\n",
        "x = M([[0, 0, 0]]).T\n",
        "y = None\n",
        "\n",
        "# 1st iteration\n",
        "F_ = F.copy()\n",
        "J_ = J.copy()\n",
        "for a, b in zip([x1, x2, x3], x):\n",
        "    F_ = F_.subs(a, b)\n",
        "    J_ = J_.subs(a, b)\n",
        "\n",
        "A_0_inv = J_.inv()\n",
        "\n",
        "y = J_.inv() * (-F_)\n",
        "s = - A_0_inv*F_\n",
        "x = x + s\n",
        "\n",
        "F_1 = F.copy()\n",
        "for a, b in zip([x1, x2, x3], x):\n",
        "    F_1 = F_1.subs(a, b)\n",
        "\n",
        "#F_1 = F_1.evalf()\n",
        "y = F_1 - F_\n",
        "\n",
        "print(\"J =\", str(J_))\n",
        "#print(\"Jinv =\", str(J_.inv()))\n",
        "print(\"F0 =\", str(F_.evalf()))\n",
        "print(\"s =\", str(s.evalf()))\n",
        "print(\"F1 =\", str(F_1.evalf()))\n",
        "print(\"y =\", y.evalf())\n",
        "print(\"x1 =\", x.evalf())\n",
        "print(\"A0_inv =\", A_0_inv.evalf())\n",
        "\n",
        "#2nd iteration\n",
        "g = s.T * A_0_inv * y\n",
        "A_1_inv = A_0_inv + (1/g[0])* (s - A_0_inv*y) * s.T * A_0_inv\n",
        "s = - A_1_inv*F_1\n",
        "x = x + s\n",
        "\n",
        "print()\n",
        "\n",
        "print(\"s2 =\", s.evalf())\n",
        "print(\"g =\", g[0].evalf())\n",
        "print(\"A_1_inv =\", A_1_inv.evalf())\n",
        "print(\"x2 =\", x.evalf())"
      ],
      "metadata": {
        "colab": {
          "base_uri": "https://localhost:8080/"
        },
        "outputId": "539280f6-41a8-4e09-bfc4-b1ff42525051",
        "id": "iBPq5Zb0caCe"
      },
      "execution_count": null,
      "outputs": [
        {
          "output_type": "stream",
          "name": "stdout",
          "text": [
            "J = Matrix([[6, 0, 0], [0, 9, 0.485642931178632], [0, 0, 60]])\n",
            "F0 = Matrix([[-3.00000000000000], [1.92956301409870], [31.4159265358979]])\n",
            "s = Matrix([[0.500000000000000], [-0.186142329995067], [-0.523598775598299]])\n",
            "F1 = Matrix([[0.00865599068983062], [0.124719030044401], [0.292619516726565]])\n",
            "y = Matrix([[3.00865599068983], [-1.80484398405430], [-31.1233070191714]])\n",
            "x1 = Matrix([[0.500000000000000], [-0.186142329995067], [-0.523598775598299]])\n",
            "A0_inv = Matrix([[0.166666666666667, 0, 0], [0, 0.111111111111111, -0.000899338761441911], [0, 0, 0.0166666666666667]])\n",
            "\n",
            "s2 = Matrix([[-0.00145401709374624], [-0.0137014777718300], [-0.00491536780167810]])\n",
            "g = 0.554441877361116\n",
            "A_1_inv = Matrix([[0.166449832228607, 5.38160900314496e-5, 2.22712591933209e-5], [-0.00204327187487627, 0.111618230294582, -0.000689472478507272], [-0.000733018215341005, 0.000181927624709867, 0.0167419556235933]])\n",
            "x2 = Matrix([[0.498545982906254], [-0.199843807766897], [-0.528514143399977]])\n"
          ]
        }
      ]
    },
    {
      "cell_type": "markdown",
      "source": [
        "# Jacobi method (Linear sys)"
      ],
      "metadata": {
        "id": "PzfmI-5b8EnX"
      }
    },
    {
      "cell_type": "code",
      "source": [
        "from sympy import Matrix as M\n",
        "\n",
        "get_diag = lambda A: M(*A.shape, lambda i, j: A[i,j] if i==j else 0)\n",
        "get_upper = lambda A: M(*A.shape, lambda i, j: -A[i,j] if i<j else 0)\n",
        "get_lower = lambda A: M(*A.shape, lambda i, j: -A[i,j] if i>j else 0)\n"
      ],
      "metadata": {
        "id": "iwCAbOrBNreg"
      },
      "execution_count": null,
      "outputs": []
    },
    {
      "cell_type": "code",
      "source": [
        "# Q1\n",
        "A = M([[4, 1, -1, 1],\n",
        "      [1, 4, -1, -1],\n",
        "      [-1, -1, 5, 1],\n",
        "       [1, -1, 1, 3]\n",
        "       ])\n",
        "\n",
        "b = M([[-2, -1, 0, 1]]).T\n",
        "\n",
        "D = get_diag(A)\n",
        "U = get_upper(A)\n",
        "L = get_lower(A)\n",
        "\n",
        "D_inv = D.inv()\n",
        "T = D_inv * (L + U)\n",
        "c = D_inv * b\n",
        "\n",
        "# gaus-seidel\n",
        "# intmd = D - L\n",
        "# T = intmd.inv() * U\n",
        "# c = intmd.inv() * b\n",
        "\n",
        "x = M([[0, 0, 0, 0]]).T # intial x transposed\n",
        "\n",
        "print(f\"c = ({c[0]}, {c[1]}, {c[2]}, {c[3]})\")\n",
        "for i in range(3):\n",
        "  x = T*x + c\n",
        "  print(f\"Iteration no.{i}: ({x[0]}, {x[1]}, {x[2]}, {x[3]})\")"
      ],
      "metadata": {
        "id": "8gOiLcJWfD0g",
        "colab": {
          "base_uri": "https://localhost:8080/"
        },
        "outputId": "9edf0ce9-3908-42b0-fbba-a23a5d6aa9fc"
      },
      "execution_count": null,
      "outputs": [
        {
          "output_type": "stream",
          "name": "stdout",
          "text": [
            "c = (-1/2, -1/4, 0, 1/3)\n",
            "Iteration no.0: (-1/2, -1/4, 0, 1/3)\n",
            "Iteration no.1: (-25/48, -1/24, -13/60, 5/12)\n",
            "Iteration no.2: (-311/480, -67/960, -47/240, 407/720)\n"
          ]
        }
      ]
    },
    {
      "cell_type": "code",
      "source": [
        "T"
      ],
      "metadata": {
        "colab": {
          "base_uri": "https://localhost:8080/",
          "height": 99
        },
        "id": "3klS7WFaCa2y",
        "outputId": "414e025c-44e2-4fcc-d0ec-d67d8fc1b117"
      },
      "execution_count": null,
      "outputs": [
        {
          "output_type": "execute_result",
          "data": {
            "text/plain": [
              "⎡ 0    -1/4  1/4   -1/4⎤\n",
              "⎢                      ⎥\n",
              "⎢-1/4   0    1/4   1/4 ⎥\n",
              "⎢                      ⎥\n",
              "⎢1/5   1/5    0    -1/5⎥\n",
              "⎢                      ⎥\n",
              "⎣-1/3  1/3   -1/3   0  ⎦"
            ],
            "text/latex": "$\\displaystyle \\left[\\begin{matrix}0 & - \\frac{1}{4} & \\frac{1}{4} & - \\frac{1}{4}\\\\- \\frac{1}{4} & 0 & \\frac{1}{4} & \\frac{1}{4}\\\\\\frac{1}{5} & \\frac{1}{5} & 0 & - \\frac{1}{5}\\\\- \\frac{1}{3} & \\frac{1}{3} & - \\frac{1}{3} & 0\\end{matrix}\\right]$"
          },
          "metadata": {},
          "execution_count": 48
        }
      ]
    },
    {
      "cell_type": "code",
      "source": [
        "# Q2\n",
        "A = M([[4, -1, 0, -1, 0, 0],\n",
        "      [-1, 4, -1, 0, -1, 0],\n",
        "      [0, -1, 4, 0, 0, -1],\n",
        "      [-1, 0, 0, 4, -1, 0],\n",
        "      [0, -1, 0, -1, 4, -1],\n",
        "      [0, 0, -1, 0, -1, 4]\n",
        "       ])\n",
        "\n",
        "b = M([[0, 5, 0, 6, -2, 6]]).T\n",
        "\n",
        "D = get_diag(A)\n",
        "U = get_upper(A)\n",
        "L = get_lower(A)\n",
        "\n",
        "D_inv = D.inv()\n",
        "T = D_inv * (L + U)\n",
        "c = D_inv * b\n",
        "\n",
        "x = M([[0, 0, 0, 0, 0, 0]]).T # intial x transposed\n",
        "\n",
        "print(f\"c = ({c[0]}, {c[1]}, {c[2]}, {c[3]}, {c[4]}, {c[5]})\")\n",
        "for i in range(3):\n",
        "  x = T*x + c\n",
        "  print(f\"Iteration no.{i}: ({x[0]}, {x[1]}, {x[2]}, {x[3]}, {x[4]}, {x[5]})\")"
      ],
      "metadata": {
        "colab": {
          "base_uri": "https://localhost:8080/"
        },
        "id": "t_k_lZ1HH6sl",
        "outputId": "cb4c6360-992c-4935-ec93-7120560d2d39"
      },
      "execution_count": null,
      "outputs": [
        {
          "output_type": "stream",
          "name": "stdout",
          "text": [
            "c = (0, 5/4, 0, 3/2, -1/2, 3/2)\n",
            "Iteration no.0: (0, 5/4, 0, 3/2, -1/2, 3/2)\n",
            "Iteration no.1: (11/16, 9/8, 11/16, 11/8, 9/16, 11/8)\n",
            "Iteration no.2: (5/8, 111/64, 5/8, 29/16, 15/32, 29/16)\n"
          ]
        }
      ]
    },
    {
      "cell_type": "code",
      "source": [
        "T"
      ],
      "metadata": {
        "colab": {
          "base_uri": "https://localhost:8080/",
          "height": 140
        },
        "id": "DL2MTzfXNlqf",
        "outputId": "c51d8f01-b4da-4289-9c45-f7493418fecf"
      },
      "execution_count": null,
      "outputs": [
        {
          "output_type": "execute_result",
          "data": {
            "text/plain": [
              "⎡ 0   1/4   0   1/4   0    0 ⎤\n",
              "⎢                            ⎥\n",
              "⎢1/4   0   1/4   0   1/4   0 ⎥\n",
              "⎢                            ⎥\n",
              "⎢ 0   1/4   0    0    0   1/4⎥\n",
              "⎢                            ⎥\n",
              "⎢1/4   0    0    0   1/4   0 ⎥\n",
              "⎢                            ⎥\n",
              "⎢ 0   1/4   0   1/4   0   1/4⎥\n",
              "⎢                            ⎥\n",
              "⎣ 0    0   1/4   0   1/4   0 ⎦"
            ],
            "text/latex": "$\\displaystyle \\left[\\begin{matrix}0 & \\frac{1}{4} & 0 & \\frac{1}{4} & 0 & 0\\\\\\frac{1}{4} & 0 & \\frac{1}{4} & 0 & \\frac{1}{4} & 0\\\\0 & \\frac{1}{4} & 0 & 0 & 0 & \\frac{1}{4}\\\\\\frac{1}{4} & 0 & 0 & 0 & \\frac{1}{4} & 0\\\\0 & \\frac{1}{4} & 0 & \\frac{1}{4} & 0 & \\frac{1}{4}\\\\0 & 0 & \\frac{1}{4} & 0 & \\frac{1}{4} & 0\\end{matrix}\\right]$"
          },
          "metadata": {},
          "execution_count": 50
        }
      ]
    },
    {
      "cell_type": "markdown",
      "source": [
        "# SOR (linear sys)"
      ],
      "metadata": {
        "id": "nHE442cUL0LU"
      }
    },
    {
      "cell_type": "code",
      "source": [
        "from sympy import Matrix as M\n",
        "\n",
        "get_diag = lambda A: M(*A.shape, lambda i, j: A[i,j] if i==j else 0)\n",
        "get_upper = lambda A: M(*A.shape, lambda i, j: -A[i,j] if i<j else 0)\n",
        "get_lower = lambda A: M(*A.shape, lambda i, j: -A[i,j] if i>j else 0)"
      ],
      "metadata": {
        "id": "7nD7TT2BNrZr"
      },
      "execution_count": 2,
      "outputs": []
    },
    {
      "cell_type": "code",
      "source": [
        "# Q3\n",
        "A = M([[4, 1, -1, 1],\n",
        "      [1, 4, -1, -1],\n",
        "      [-1, -1, 5, 1],\n",
        "       [1, -1, 1, 3]\n",
        "       ])\n",
        "\n",
        "b = M([[-2, -1, 0, 1]]).T\n",
        "\n",
        "w = 1.1\n",
        "\n",
        "D = get_diag(A)\n",
        "U = get_upper(A)\n",
        "L = get_lower(A)\n",
        "\n",
        "intmd = D - (w * L)\n",
        "T = intmd.inv() * ((1-w)*D + w*U)\n",
        "c = w * intmd.inv() * b\n",
        "\n",
        "x = M([[0, 0, 0, 0]]).T # intial x transposed\n",
        "\n",
        "print(f\"c = ({c[0]}, {c[1]}, {c[2]}, {c[3]})\")\n",
        "for i in range(3):\n",
        "  x = T*x + c\n",
        "  print(f\"Iteration no.{i}: ({x[0]}, {x[1]}, {x[2]}, {x[3]})\")"
      ],
      "metadata": {
        "colab": {
          "base_uri": "https://localhost:8080/"
        },
        "id": "xQSUSKg3LhEy",
        "outputId": "414052d0-b0ae-4c24-dfff-5a270e080d05"
      },
      "execution_count": 20,
      "outputs": [
        {
          "output_type": "stream",
          "name": "stdout",
          "text": [
            "c = (-0.550000000000000, -0.123750000000000, -0.148225000000000, 0.577307500000000)\n",
            "Iteration no.0: (-0.550000000000000, -0.123750000000000, -0.148225000000000, 0.577307500000000)\n",
            "Iteration no.1: (-0.660490187500000, 0.0370074890625000, -0.249351343656250, 0.656113890746875)\n",
            "Iteration no.2: (-0.743130980203047, 0.0375199710995097, -0.274644343601466, 0.687996885723454)\n"
          ]
        }
      ]
    },
    {
      "cell_type": "code",
      "source": [
        "T"
      ],
      "metadata": {
        "colab": {
          "base_uri": "https://localhost:8080/",
          "height": 98
        },
        "id": "3Vl-wDrPNT6K",
        "outputId": "e395a502-c231-4c44-be83-d244de449e14"
      },
      "execution_count": null,
      "outputs": [
        {
          "output_type": "execute_result",
          "data": {
            "text/plain": [
              "⎡       -0.1               -0.275                0.275              -0.275    \n",
              "⎢                                                                             \n",
              "⎢      0.0275        -0.0243750000000001       0.199375            0.350625   \n",
              "⎢                                                                             \n",
              "⎢     -0.01595           -0.0658625       0.00436249999999994     -0.2033625  \n",
              "⎢                                                                             \n",
              "⎣0.0525983333333334   0.116045416666667       -0.02932875      0.2039620833333\n",
              "\n",
              "  ⎤\n",
              "  ⎥\n",
              "  ⎥\n",
              "  ⎥\n",
              "  ⎥\n",
              "  ⎥\n",
              "33⎦"
            ],
            "text/latex": "$\\displaystyle \\left[\\begin{matrix}-0.1 & -0.275 & 0.275 & -0.275\\\\0.0275 & -0.0243750000000001 & 0.199375 & 0.350625\\\\-0.01595 & -0.0658625 & 0.00436249999999994 & -0.2033625\\\\0.0525983333333334 & 0.116045416666667 & -0.02932875 & 0.203962083333333\\end{matrix}\\right]$"
          },
          "metadata": {},
          "execution_count": 53
        }
      ]
    },
    {
      "cell_type": "code",
      "source": [
        "# Q4\n",
        "A = M([[4, -1, 0, 0, 0, 0],\n",
        "      [-1, 4, -1, 0, 0, 0],\n",
        "      [0, -1, 4, 0, 0, 0],\n",
        "      [0, 0, 0, 4, -1, 0],\n",
        "      [0, 0, 0, -1, 4, -1],\n",
        "      [0, 0, 0, 0, -1, 4]])\n",
        "\n",
        "b = M([[0, 5, 0, 6, -2, 6]]).T\n",
        "\n",
        "w = 1.1\n",
        "\n",
        "D = get_diag(A)\n",
        "U = get_upper(A)\n",
        "L = get_lower(A)\n",
        "\n",
        "intmd = D - (w * L)\n",
        "T = intmd.inv() * ((1-w)*D + w*U)\n",
        "c = w * intmd.inv() * b\n",
        "\n",
        "x = M([[0, 0, 0, 0, 0, 0]]).T # intial x transposed\n",
        "\n",
        "print(f\"c = ({c[0]}, {c[1]}, {c[2]}, {c[3]}, {c[4]}, {c[5]})\")\n",
        "for i in range(3):\n",
        "  x = T*x + c\n",
        "  print(f\"Iteration no.{i}: ({x[0]}, {x[1]}, {x[2]}, {x[3]}, {x[4]}, {x[5]})\")"
      ],
      "metadata": {
        "colab": {
          "base_uri": "https://localhost:8080/"
        },
        "id": "hz9sHzqKN3CO",
        "outputId": "40c81275-11a4-494e-8224-22d2627ebc3d"
      },
      "execution_count": null,
      "outputs": [
        {
          "output_type": "stream",
          "name": "stdout",
          "text": [
            "c = (0, 1.37500000000000, 0.378125000000000, 1.65000000000000, -0.0962499999999999, 1.62353125000000)\n",
            "Iteration no.0: (0, 1.37500000000000, 0.378125000000000, 1.65000000000000, -0.0962499999999999, 1.62353125000000)\n",
            "Iteration no.1: (0.378125000000000, 1.44546875000000, 0.359691406250000, 1.45853125000000, 0.307192187500000, 1.57212472656250)\n",
            "Iteration no.2: (0.359691406250000, 1.42828339843750, 0.356808793945313, 1.58862472656250, 0.288486880859375, 1.57212141958008)\n"
          ]
        }
      ]
    },
    {
      "cell_type": "code",
      "source": [
        "T"
      ],
      "metadata": {
        "colab": {
          "base_uri": "https://localhost:8080/",
          "height": 159
        },
        "id": "wcFzKwVAPMX_",
        "outputId": "52f1b3e1-7869-406f-a0f1-4bc5e7779c38"
      },
      "execution_count": null,
      "outputs": [
        {
          "output_type": "execute_result",
          "data": {
            "text/plain": [
              "⎡        -0.1                 0.275                   0                    0  \n",
              "⎢                                                                             \n",
              "⎢      -0.0275         -0.0243750000000001          0.275                  0  \n",
              "⎢                                                                             \n",
              "⎢-0.00756250000000001  -0.00670312500000002  -0.0243750000000001           0  \n",
              "⎢                                                                             \n",
              "⎢         0                     0                     0                   -0.1\n",
              "⎢                                                                             \n",
              "⎢         0                     0                     0                 -0.027\n",
              "⎢                                                                             \n",
              "⎣         0                     0                     0           -0.007562500\n",
              "\n",
              "                   0                     0         ⎤\n",
              "                                                   ⎥\n",
              "                   0                     0         ⎥\n",
              "                                                   ⎥\n",
              "                   0                     0         ⎥\n",
              "                                                   ⎥\n",
              "                 0.275                   0         ⎥\n",
              "                                                   ⎥\n",
              "5         -0.0243750000000001          0.275       ⎥\n",
              "                                                   ⎥\n",
              "00000001  -0.00670312500000002  -0.0243750000000001⎦"
            ],
            "text/latex": "$\\displaystyle \\left[\\begin{matrix}-0.1 & 0.275 & 0 & 0 & 0 & 0\\\\-0.0275 & -0.0243750000000001 & 0.275 & 0 & 0 & 0\\\\-0.00756250000000001 & -0.00670312500000002 & -0.0243750000000001 & 0 & 0 & 0\\\\0 & 0 & 0 & -0.1 & 0.275 & 0\\\\0 & 0 & 0 & -0.0275 & -0.0243750000000001 & 0.275\\\\0 & 0 & 0 & -0.00756250000000001 & -0.00670312500000002 & -0.0243750000000001\\end{matrix}\\right]$"
          },
          "metadata": {},
          "execution_count": 55
        }
      ]
    },
    {
      "cell_type": "markdown",
      "source": [
        "# Gaussian Elimination"
      ],
      "metadata": {
        "id": "AhietVrWS5kt"
      }
    },
    {
      "cell_type": "code",
      "source": [
        "from sympy import init_printing\n",
        "init_printing()\n",
        "\n",
        "A = M([[ 1,  1,  0,  3,  4],\n",
        "       [ 2,  1, -1,  1,  1],\n",
        "       [ 3, -1, -1,  2, -3],\n",
        "       [-1,  2,  3, -1,  4]]) #augmented\n",
        "n = 4\n",
        "\n",
        "# A = M([[0.003000, 59.14, 59.17], [5.291, -6.130, 46.78]])\n",
        "\n",
        "for i in range(0, n - 1):\n",
        "  for j in range(i + 1, n):\n",
        "    m = A[j, i] / A[i, i]\n",
        "    for k in range(n + 1):\n",
        "      A[j, k] = A[j, k] - m * A[i, k]\n",
        "    print(f\"m[{j}][{i}]= {m}\")\n",
        "    print(A)\n",
        "\n",
        "x = M([[0, 0, 0, A[n - 1, n] / A[n - 1, n - 1]]])\n",
        "\n",
        "for i in range(n - 2, -1, -1):\n",
        "  s = 0\n",
        "  for j in range(i + 1, n):\n",
        "    s += A[i, j] * x[j]\n",
        "  x[i] = (A[i, n] - s) / A[i,i]\n",
        "\n",
        "print(\"x =\", x)"
      ],
      "metadata": {
        "colab": {
          "base_uri": "https://localhost:8080/"
        },
        "id": "Hdcs4z8eS4i7",
        "outputId": "b01c4694-1373-4680-a102-04634d146c40"
      },
      "execution_count": 19,
      "outputs": [
        {
          "output_type": "stream",
          "name": "stdout",
          "text": [
            "m[1][0]= 2\n",
            "Matrix([[1, 1, 0, 3, 4], [0, -1, -1, -5, -7], [3, -1, -1, 2, -3], [-1, 2, 3, -1, 4]])\n",
            "m[2][0]= 3\n",
            "Matrix([[1, 1, 0, 3, 4], [0, -1, -1, -5, -7], [0, -4, -1, -7, -15], [-1, 2, 3, -1, 4]])\n",
            "m[3][0]= -1\n",
            "Matrix([[1, 1, 0, 3, 4], [0, -1, -1, -5, -7], [0, -4, -1, -7, -15], [0, 3, 3, 2, 8]])\n",
            "m[2][1]= 4\n",
            "Matrix([[1, 1, 0, 3, 4], [0, -1, -1, -5, -7], [0, 0, 3, 13, 13], [0, 3, 3, 2, 8]])\n",
            "m[3][1]= -3\n",
            "Matrix([[1, 1, 0, 3, 4], [0, -1, -1, -5, -7], [0, 0, 3, 13, 13], [0, 0, 0, -13, -13]])\n",
            "m[3][2]= 0\n",
            "Matrix([[1, 1, 0, 3, 4], [0, -1, -1, -5, -7], [0, 0, 3, 13, 13], [0, 0, 0, -13, -13]])\n",
            "x = Matrix([[-1, 2, 0, 1]])\n"
          ]
        }
      ]
    },
    {
      "cell_type": "code",
      "source": [
        "A"
      ],
      "metadata": {
        "colab": {
          "base_uri": "https://localhost:8080/"
        },
        "id": "rfgh10oQW4EI",
        "outputId": "75c25ec2-c8f5-4755-ae94-09e8f2ca49f7"
      },
      "execution_count": 13,
      "outputs": [
        {
          "output_type": "stream",
          "name": "stdout",
          "text": [
            "Matrix([[-4, 14, 0], [-5, 13, 0], [-1, 0, 2]])\n"
          ]
        }
      ]
    },
    {
      "cell_type": "markdown",
      "source": [
        "# Power method"
      ],
      "metadata": {
        "id": "1KgBNgN9PM_w"
      }
    },
    {
      "cell_type": "code",
      "source": [
        "A = M([[1, 1, 0, 0],\n",
        "       [1, 2, 0, 1],\n",
        "       [0, 0, 3, 3],\n",
        "       [0, 1, 3, 2]\n",
        "       ])\n",
        "\n",
        "b = M([[1, 1, 0, 1]]).T\n",
        "\n",
        "x1 = A*(b/4)\n",
        "x2 = (A*x1)*(4/19)\n",
        "x3= (A*x2)/5.8421052\n",
        "x4 = (A*x3)\n",
        "x4/5.837837901\n"
      ],
      "metadata": {
        "colab": {
          "base_uri": "https://localhost:8080/",
          "height": 98
        },
        "id": "jbgTEIUZ_DVF",
        "outputId": "c48693f5-2b84-4a14-af47-9ded6648f5fb"
      },
      "execution_count": 43,
      "outputs": [
        {
          "output_type": "execute_result",
          "data": {
            "text/plain": [
              "⎡0.108024691357092⎤\n",
              "⎢                 ⎥\n",
              "⎢0.348765432095754⎥\n",
              "⎢                 ⎥\n",
              "⎢0.999999999991366⎥\n",
              "⎢                 ⎥\n",
              "⎣0.916666666658753⎦"
            ],
            "text/latex": "$\\displaystyle \\left[\\begin{matrix}0.108024691357092\\\\0.348765432095754\\\\0.999999999991366\\\\0.916666666658753\\end{matrix}\\right]$"
          },
          "metadata": {},
          "execution_count": 43
        }
      ]
    },
    {
      "cell_type": "markdown",
      "source": [
        "# MID"
      ],
      "metadata": {
        "id": "Xl8kZDFrXVXt"
      }
    },
    {
      "cell_type": "code",
      "source": [
        "from sympy import Matrix as M\n",
        "\n",
        "get_diag = lambda A: M(*A.shape, lambda i, j: A[i,j] if i==j else 0)\n",
        "get_upper = lambda A: M(*A.shape, lambda i, j: -A[i,j] if i<j else 0)\n",
        "get_lower = lambda A: M(*A.shape, lambda i, j: -A[i,j] if i>j else 0)\n",
        "\n",
        "\n",
        "A = M([[0.04, 0.01, -0.01],\n",
        "       [0.2, 0.5, -0.02],\n",
        "       [1,    2,    4]])\n",
        "\n",
        "b = M([[0.06, 0.3, 11]]).T\n",
        "\n",
        "w = 1.1\n",
        "\n",
        "D = get_diag(A)\n",
        "U = get_upper(A)\n",
        "L = get_lower(A)\n",
        "\n",
        "intmd = D - (w * L)\n",
        "T = intmd.inv() * ((1-w)*D + w*U)\n",
        "c = w * intmd.inv() * b\n",
        "\n",
        "x = M([[0, 0, 0]]).T # intial x transposed\n",
        "\n",
        "print(f\"c = ({c[0]}, {c[1]}, {c[2]})\")\n",
        "for i in range(4):\n",
        "  x = T*x + c\n",
        "  print(f\"Iteration no.{i}: ({x[0]}, {x[1]}, {x[2]})\")"
      ],
      "metadata": {
        "colab": {
          "base_uri": "https://localhost:8080/"
        },
        "id": "EqYgxILrXX1a",
        "outputId": "4d26d3aa-f149-4208-d928-27d3a56c6338"
      },
      "execution_count": 24,
      "outputs": [
        {
          "output_type": "stream",
          "name": "stdout",
          "text": [
            "c = (1.65000000000000, -0.0660000000000002, 2.60755000000000)\n",
            "Iteration no.0: (1.65000000000000, -0.0660000000000002, 2.60755000000000)\n",
            "Iteration no.1: (2.22022625000000, -0.195567350000000, 2.26124482375000)\n",
            "Iteration no.2: (2.10360072278125, -0.146532810778750, 2.30097836478847)\n",
            "Iteration no.3: (2.11270550100286, -0.153694091312691, 2.29843990096735)\n"
          ]
        }
      ]
    },
    {
      "cell_type": "code",
      "source": [
        "T"
      ],
      "metadata": {
        "colab": {
          "base_uri": "https://localhost:8080/",
          "height": 78
        },
        "id": "qguhbLLuX2I5",
        "outputId": "2118af73-fe36-4a5c-8d28-4f173c2d01eb"
      },
      "execution_count": 31,
      "outputs": [
        {
          "output_type": "execute_result",
          "data": {
            "text/plain": [
              "⎡ -0.1         -0.275          0.275  ⎤\n",
              "⎢                                     ⎥\n",
              "⎢0.044   0.0209999999999999   -0.077  ⎥\n",
              "⎢                                     ⎥\n",
              "⎣0.0033       0.064075       -0.133275⎦"
            ],
            "text/latex": "$\\displaystyle \\left[\\begin{matrix}-0.1 & -0.275 & 0.275\\\\0.044 & 0.0209999999999999 & -0.077\\\\0.0033 & 0.064075 & -0.133275\\end{matrix}\\right]$"
          },
          "metadata": {},
          "execution_count": 31
        }
      ]
    }
  ]
}